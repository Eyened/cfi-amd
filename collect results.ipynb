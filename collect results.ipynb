{
 "cells": [
  {
   "cell_type": "code",
   "execution_count": 1,
   "metadata": {},
   "outputs": [],
   "source": [
    "import pandas as pd\n",
    "import json\n",
    "from cfi_amd.main import export_results_full, export_results_area\n",
    "from cfi_amd.utils.cfi_bounds import CFIBounds"
   ]
  },
  {
   "cell_type": "code",
   "execution_count": 2,
   "metadata": {},
   "outputs": [],
   "source": [
    "# folder with the results\n",
    "output_folder = \"output\""
   ]
  },
  {
   "cell_type": "code",
   "execution_count": 3,
   "metadata": {},
   "outputs": [],
   "source": [
    "# some dummy variables for the results that are missing or not needed\n",
    "class DummyImage:\n",
    "    shape = (0, 0)\n",
    "\n",
    "image = DummyImage()\n",
    "dummy_cfi_bounds = CFIBounds(image, 0, 0, 0, {})\n",
    "dummy_coords = {\"disc_edge\": [0, 0], \"fovea\": [0, 0]}\n",
    "\n",
    "\n",
    "def load_results(identifier):\n",
    "    summary = json.load(open(f\"{output_folder}/{identifier}/report.json\"))\n",
    "\n",
    "    try:\n",
    "        bounds = json.load(open(f\"{output_folder}/{identifier}/bounds.json\"))\n",
    "        cfi_bounds = CFIBounds.from_dict(image, bounds)\n",
    "    except Exception as e:\n",
    "        cfi_bounds = dummy_cfi_bounds\n",
    "    try:\n",
    "        coords = json.load(open(f\"{output_folder}/{identifier}/coordinates.json\"))\n",
    "    except Exception as e:\n",
    "        coords = dummy_coords\n",
    "\n",
    "    return summary, cfi_bounds, coords"
   ]
  },
  {
   "cell_type": "code",
   "execution_count": 4,
   "metadata": {},
   "outputs": [],
   "source": [
    "# input csv file with all identifiers\n",
    "df = pd.read_csv(\"input.csv\")\n",
    "\n",
    "# collect all results\n",
    "results = []\n",
    "errors = []\n",
    "\n",
    "for i, row in df.iterrows():\n",
    "    try:\n",
    "        identifier = row.identifier\n",
    "        summary, bounds, coords = load_results(identifier)\n",
    "        results.append((row, summary, bounds, coords))\n",
    "    except Exception as e:\n",
    "        errors.append(identifier)"
   ]
  },
  {
   "cell_type": "code",
   "execution_count": 5,
   "metadata": {},
   "outputs": [],
   "source": [
    "# this will export all loaded results (for each identifier in input.csv) to current directory\n",
    "export_results_full('.', results) # results_full.csv\n",
    "export_results_area('.', results) # results_area.csv"
   ]
  }
 ],
 "metadata": {
  "kernelspec": {
   "display_name": ".venv",
   "language": "python",
   "name": "python3"
  },
  "language_info": {
   "codemirror_mode": {
    "name": "ipython",
    "version": 3
   },
   "file_extension": ".py",
   "mimetype": "text/x-python",
   "name": "python",
   "nbconvert_exporter": "python",
   "pygments_lexer": "ipython3",
   "version": "3.12.2"
  }
 },
 "nbformat": 4,
 "nbformat_minor": 2
}
